{
 "cells": [
  {
   "cell_type": "code",
   "execution_count": null,
   "id": "9b9e8c28-2212-4dda-a11b-188113913e1c",
   "metadata": {
    "tags": []
   },
   "outputs": [],
   "source": [
    "!git clone https://github.com/maldivien/Coco-to-yolo-downloader.git\n",
    "!apt-get install wget\n",
    "!wget http://images.cocodataset.org/annotations/annotations_trainval2017.zip\n",
    "!pip install pycocotools"
   ]
  },
  {
   "cell_type": "code",
   "execution_count": null,
   "id": "efbde47b-0fb8-4c0b-9d48-1a6ad8e5ad80",
   "metadata": {
    "tags": []
   },
   "outputs": [],
   "source": [
    "!unzip /home/jovyan/xalil/coco/annotations_trainval2017.zip\n",
    "!mv /home/jovyan/xalil/coco/annotations/instances_train2017.json /home/jovyan/xalil/coco/\n",
    "!mv /home/jovyan/xalil/coco/annotations/instances_val2017.json /home/jovyan/xalil/coco/\n",
    "!rm -rf /home/jovyan/xalil/coco/annotations\n",
    "!rm -rf /home/jovyan/xalil/coco/annotations_trainval2017.zip\n",
    "!rm -rf /home/jovyan/xalil/coco/sample_data\n",
    "!mv /home/jovyan/xalil/coco/Coco-to-yolo-downloader/categories_to_download.txt /home/jovyan/xalil/coco/\n",
    "!mv /home/jovyan/xalil/coco/Coco-to-yolo-downloader/coco-names.txt /home/jovyan/xalil/coco/\n",
    "!mv /home/jovyan/xalil/coco/Coco-to-yolo-downloader/main.py /home/jovyan/xalil/coco/\n",
    "!rm -rf /home/jovyan/xalil/coco/Coco-to-yolo-downloader\n"
   ]
  },
  {
   "cell_type": "code",
   "execution_count": 39,
   "id": "a0f23650-aeb8-45b3-8f71-393861955d87",
   "metadata": {
    "execution": {
     "iopub.execute_input": "2023-04-06T12:25:52.822278Z",
     "iopub.status.busy": "2023-04-06T12:25:52.821909Z",
     "iopub.status.idle": "2023-04-06T12:25:56.067676Z",
     "shell.execute_reply": "2023-04-06T12:25:56.066943Z",
     "shell.execute_reply.started": "2023-04-06T12:25:52.822252Z"
    },
    "tags": []
   },
   "outputs": [
    {
     "name": "stdout",
     "output_type": "stream",
     "text": [
      "loading annotations into memory...\n",
      "Done (t=0.47s)\n",
      "creating index...\n",
      "index created!\n",
      "Starting Thread for car\n",
      "535 Images found for car\n",
      "1932 Annotations found for car\n",
      "Download Started...! Category: car\n",
      "Limit of 5 Images download for class .\n",
      "Download Completed! Category: car\n",
      "Starting Thread for truck\n",
      "250 Images found for truck\n",
      "415 Annotations found for truck\n",
      "Download Started...! Category: truck\n",
      "Skipping... /home/jovyan/xalil/coco/outputs/000000184324.jpg\n",
      "Skipping... /home/jovyan/xalil/coco/outputs/000000393226.jpg\n",
      "Limit of 5 Images download for class .\n",
      "Download Completed! Category: truck\n",
      "process Done\n"
     ]
    }
   ],
   "source": [
    "!python xalil_script.py"
   ]
  },
  {
   "cell_type": "code",
   "execution_count": 40,
   "id": "38ab7690-63cb-45bc-8fcc-e5dac71c3b07",
   "metadata": {
    "execution": {
     "iopub.execute_input": "2023-04-06T12:31:43.019735Z",
     "iopub.status.busy": "2023-04-06T12:31:43.019354Z",
     "iopub.status.idle": "2023-04-06T12:31:43.890466Z",
     "shell.execute_reply": "2023-04-06T12:31:43.889737Z",
     "shell.execute_reply.started": "2023-04-06T12:31:43.019708Z"
    },
    "tags": []
   },
   "outputs": [
    {
     "name": "stdout",
     "output_type": "stream",
     "text": [
      "\tzip warning: name not matched: source_path+outputs/\n",
      "\n",
      "zip error: Nothing to do! (try: zip -r source_path+xalo2.zip . -i source_path+outputs/)\n"
     ]
    }
   ],
   "source": [
    "!zip -r /home/jovyan/xalil/coco/xalo2.zip /home/jovyan/xalil/coco/outputs/\n",
    "\n"
   ]
  },
  {
   "cell_type": "code",
   "execution_count": null,
   "id": "e0acc27b-afa7-4cac-ab53-812c156950bc",
   "metadata": {},
   "outputs": [],
   "source": []
  }
 ],
 "metadata": {
  "kernelspec": {
   "display_name": "saturn (Python 3)",
   "language": "python",
   "name": "python3"
  },
  "language_info": {
   "codemirror_mode": {
    "name": "ipython",
    "version": 3
   },
   "file_extension": ".py",
   "mimetype": "text/x-python",
   "name": "python",
   "nbconvert_exporter": "python",
   "pygments_lexer": "ipython3",
   "version": "3.9.13"
  }
 },
 "nbformat": 4,
 "nbformat_minor": 5
}
